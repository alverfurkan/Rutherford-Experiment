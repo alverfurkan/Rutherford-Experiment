{
 "cells": [
  {
   "cell_type": "code",
   "execution_count": 1,
   "metadata": {},
   "outputs": [
    {
     "name": "stdout",
     "output_type": "stream",
     "text": [
      "Welcome to JupyROOT 6.16/00\n"
     ]
    }
   ],
   "source": [
    "import numpy as np\n",
    "from ROOT import TCanvas, TGraphErrors, TF1, TGraph,TLatex\n",
    "from ROOT import gROOT\n",
    "from array import array\n",
    "import math\n",
    "import ROOT"
   ]
  },
  {
   "cell_type": "code",
   "execution_count": 2,
   "metadata": {},
   "outputs": [
    {
     "name": "stdout",
     "output_type": "stream",
     "text": [
      "[1.8812090372137156, 1.8792341027403874, 1.8982750341193722, 1.8812816926678053, 1.824491847693964, 1.8076789569624236, 1.7477197438517527, 1.7463992960832861, 1.6828275521164702, 1.68402481382826, 1.6078469135726303, 1.6079036974052456]\n",
      "sigma_F\n"
     ]
    }
   ],
   "source": [
    "time = [100,100,100,100,100,100,200,200,600,600,900,900]\n",
    "t=[-5,5,10,-10,15,-15,20,-20,25,-25,30,-30]\n",
    "e=[3988,3742,2199,1661,432,201,104,64,77,283,43,58]\n",
    "se=[]\n",
    "st=[]\n",
    "N = [39.88,37.42,21.99,16.61,4.32,2.01,0.54,0.32,0.128,0.472,0.048,0.067]\n",
    "R = []\n",
    "for i in t:\n",
    "    x = (i/180.0)*3.14\n",
    "    R.append(x)\n",
    "    \n",
    "for i in t:\n",
    "    x = (5.0/180)*3.14\n",
    "    st.append(x)\n",
    "for i in N:\n",
    "    y = math.sqrt(i)\n",
    "    se.append(y)\n",
    "ndata = len(t)\n",
    "\n",
    "\n",
    "\n",
    "sigma_n = []\n",
    "for i in e:\n",
    "    s = math.sqrt(i)\n",
    "\n",
    "    sigma_n.append(s)\n",
    "sigma_N = []\n",
    "for i in range(ndata):\n",
    "    s2 = sigma_n[i]**(2)/time[i]**2+(1.0/time[i]**4)*e[i]**2*(1.0/100)\n",
    "    s = math.sqrt(s2)\n",
    "    sigma_N.append(s)\n",
    "sigma_F = []\n",
    "for i in range(ndata):\n",
    "    x2 = 4*math.pi**2*(math.cos(R[i])**2*5*math.pi*(1.0/180)+math.sin(R[i])**2*sigma_N[i]**2)\n",
    "    x = math.sqrt(x2)\n",
    "    sigma_F.append(x)\n",
    "\n",
    "print sigma_F\n",
    "print \"sigma_F\""
   ]
  },
  {
   "cell_type": "code",
   "execution_count": 3,
   "metadata": {},
   "outputs": [
    {
     "name": "stdout",
     "output_type": "stream",
     "text": [
      "[63.150613615387776, 61.171888968708494, 46.89349635077342, 40.755367744629666, 20.784609690826528, 14.177446878757825, 10.198039027185569, 8.0, 8.774964387392123, 16.822603841260722, 6.557438524302, 7.615773105863909]\n",
      "sigma_n\n"
     ]
    }
   ],
   "source": [
    "print sigma_n\n",
    "print \"sigma_n\""
   ]
  },
  {
   "cell_type": "code",
   "execution_count": 4,
   "metadata": {},
   "outputs": [
    {
     "name": "stdout",
     "output_type": "stream",
     "text": [
      "[0.6327641064409391, 0.6128623470241911, 0.4694502743635368, 0.4078920103409725, 0.20789098681761073, 0.14178871640578455, 0.050990858004155995, 0.04000031999872001, 0.014624956286206699, 0.028037783272182936, 0.0072860447387293765, 0.008461973147220261]\n",
      "sigma_N\n"
     ]
    }
   ],
   "source": [
    "print sigma_N\n",
    "print \"sigma_N\""
   ]
  },
  {
   "cell_type": "code",
   "execution_count": null,
   "metadata": {},
   "outputs": [],
   "source": []
  },
  {
   "cell_type": "code",
   "execution_count": 5,
   "metadata": {},
   "outputs": [],
   "source": [
    "R  =  array( 'f', R)\n",
    "N  =  array( 'f', N)\n",
    "st= array('f',st)\n",
    "se=array('f',se)\n",
    "sigma_F = array('f', sigma_F)"
   ]
  },
  {
   "cell_type": "code",
   "execution_count": 6,
   "metadata": {},
   "outputs": [
    {
     "name": "stdout",
     "output_type": "stream",
     "text": [
      "[21.81680396700701, 20.471031660787872, 23.968292457499395, 18.104290881850524, 7.018179110144934, 3.2654026351660264, 1.1592947699788039, 0.6869894506668528, 0.3395563281127054, 1.2521139080330572, 0.15065069524026062, 0.2102832655163733]\n",
      "23.9682924575\n"
     ]
    }
   ],
   "source": [
    "C = []\n",
    "\n",
    "for i in range(ndata):\n",
    "    c = N[i]*(2*3.14*math.sin(R[i]))\n",
    "    if c<0:\n",
    "        c = -c\n",
    "    C.append(c)\n",
    "print C\n",
    "print max(C)\n",
    "C = array('f', C)"
   ]
  },
  {
   "cell_type": "code",
   "execution_count": 7,
   "metadata": {},
   "outputs": [
    {
     "data": {
      "image/png": "[encoded data removed]",
      "text/plain": [
       "<IPython.core.display.Image object>"
      ]
     },
     "metadata": {},
     "output_type": "display_data"
    }
   ],
   "source": [
    "c1 = TCanvas( 'c1', '..', 200, 10, 700, 500 )\n",
    "             \n",
    "mygraph = TGraphErrors(ndata,R,C,st,sigma_F)\n",
    "mygraph.Draw(\"AP\")\n",
    "mygraph.SetTitle(\"\")\n",
    "mygraph.SetLineColor( 4 )\n",
    "mygraph.SetLineWidth( 2 )\n",
    "mygraph.SetMarkerColor( 9)\n",
    "mygraph.SetMarkerStyle( 7 )\n",
    "\n",
    "mygraph.GetXaxis().SetTitle( 'Scattering Angle (radians)' )\n",
    "mygraph.GetYaxis().SetTitle( 'Corrected Counting Rate (1/s)')\n",
    "c1.Draw()"
   ]
  },
  {
   "cell_type": "code",
   "execution_count": null,
   "metadata": {},
   "outputs": [],
   "source": []
  },
  {
   "cell_type": "code",
   "execution_count": 8,
   "metadata": {},
   "outputs": [
    {
     "name": "stdout",
     "output_type": "stream",
     "text": [
      " FCN=0.491055 FROM MIGRAD    STATUS=CONVERGED      84 CALLS          85 TOTAL\n",
      "                     EDM=1.37785e-09    STRATEGY= 1      ERROR MATRIX ACCURATE \n",
      "  EXT PARAMETER                                   STEP         FIRST   \n",
      "  NO.   NAME      VALUE            ERROR          SIZE      DERIVATIVE \n",
      "   1  p0           5.33016e+00   8.02457e-01   4.74003e-04  -1.21629e-06\n",
      "   2  p1           7.19733e-03   1.88754e-02   1.11089e-05   2.78721e-03\n"
     ]
    },
    {
     "data": {
      "image/png": "[encoded data removed]",
      "text/plain": [
       "<IPython.core.display.Image object>"
      ]
     },
     "metadata": {},
     "output_type": "display_data"
    }
   ],
   "source": [
    "l1=TF1(\"l1\", \"([0]*sin(x/2-[1]))**(-4)\")\n",
    "#l2=TF1('l2','gaus')\n",
    "#l2=TF1('l2','pol1')\n",
    "l1.SetParameters(1,0)\n",
    "#l1.TLegend()\n",
    "mygraph.Fit(l1,'','',-30,30)\n",
    "#mygraph.Fit(l2,'','')\n",
    "legend = ROOT.TLegend (0.7 ,0.6 ,0.85 ,0.75)\n",
    "#legend.SetLineWidth (0)\n",
    "chi2 = l1.GetChisquare()\n",
    "\n",
    "\n",
    "\n",
    "\n",
    "\n",
    "c1.Draw()"
   ]
  },
  {
   "cell_type": "code",
   "execution_count": 9,
   "metadata": {},
   "outputs": [
    {
     "name": "stdout",
     "output_type": "stream",
     "text": [
      "0.491054692867\n"
     ]
    }
   ],
   "source": [
    "print chi2"
   ]
  },
  {
   "cell_type": "code",
   "execution_count": null,
   "metadata": {},
   "outputs": [],
   "source": []
  },
  {
   "cell_type": "code",
   "execution_count": null,
   "metadata": {},
   "outputs": [],
   "source": []
  }
 ],
 "metadata": {
  "kernelspec": {
   "display_name": "Python 3",
   "language": "python",
   "name": "python3"
  },
  "language_info": {
   "codemirror_mode": {
    "name": "ipython",
    "version": 3
   },
   "file_extension": ".py",
   "mimetype": "text/x-python",
   "name": "python",
   "nbconvert_exporter": "python",
   "pygments_lexer": "ipython3",
   "version": "3.7.1"
  }
 },
 "nbformat": 4,
 "nbformat_minor": 2
}
